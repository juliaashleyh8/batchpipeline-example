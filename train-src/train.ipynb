{
 "cells": [
  {
   "cell_type": "code",
   "execution_count": 25,
   "metadata": {},
   "outputs": [],
   "source": [
    "import pandas as pd\n",
    "import numpy as np\n",
    "from sklearn.preprocessing import StandardScaler\n",
    "from sklearn.linear_model import LinearRegression\n",
    "from sklearn.model_selection import train_test_split\n",
    "from sklearn.pipeline import Pipeline"
   ]
  },
  {
   "cell_type": "code",
   "execution_count": 61,
   "metadata": {},
   "outputs": [],
   "source": [
    "df = pd.read_csv(r\"C:\\\\Users\\\\wijohns\\\\OneDrive - Microsoft\\Desktop\\\\OnlineRetail\\\\ItemDeDupe.csv\")\n",
    "random_state = 42\n"
   ]
  },
  {
   "cell_type": "code",
   "execution_count": 74,
   "metadata": {},
   "outputs": [],
   "source": [
    "df['InvoiceDateOnly'] = pd.to_datetime(df[\"InvoiceDateOnly\"])\n",
    "df_agg = pd.DataFrame(df.groupby(\"InvoiceDateOnly\")['Quantity'].sum())\n",
    "\n",
    "start_date = min(df_agg.index.values)\n",
    "end_date = max(df_agg.index.values)\n",
    "t = np.arange(start_date, end_date, np.timedelta64(1, 'D'))\n",
    "\n",
    "remaining_days = np.setdiff1d(t, df_agg.index.values)\n",
    "remainder_df = pd.DataFrame(remaining_days)\n",
    "remainder_df[\"Quantity\"] = 0\n",
    "remainder_df.columns = [\"InvoiceDateOnly\", \"Quantity\"]\n",
    "remainder_df = remainder_df.set_index(\"InvoiceDateOnly\")\n",
    "\n",
    "df_dense = pd.concat([df_agg, remainder_df])\n",
    "df_dense = df_dense.sort_index()"
   ]
  },
  {
   "cell_type": "code",
   "execution_count": 76,
   "metadata": {},
   "outputs": [],
   "source": [
    "df_dense[\"lag1\"] = df_dense[\"Quantity\"].shift(-1)\n",
    "df_dense[\"lag2\"] = df_dense[\"Quantity\"].shift(-2)\n",
    "df_dense[\"lag7\"] = df_dense[\"Quantity\"].shift(-7)\n",
    "df_dense[\"lag14\"] = df_dense[\"Quantity\"].shift(-14)\n",
    "df_dense.dropna(inplace=True)"
   ]
  },
  {
   "cell_type": "markdown",
   "metadata": {},
   "source": [
    "# Training"
   ]
  },
  {
   "cell_type": "code",
   "execution_count": 78,
   "metadata": {},
   "outputs": [],
   "source": [
    "X = df_dense.drop([\"Quantity\"], axis=1)\n",
    "y = df_dense[\"Quantity\"]\n",
    "X_train, X_test, y_train, y_test = train_test_split(\n",
    "        X, y, test_size=0.2, random_state=random_state\n",
    "    )"
   ]
  },
  {
   "cell_type": "code",
   "execution_count": 79,
   "metadata": {},
   "outputs": [
    {
     "data": {
      "text/plain": [
       "Pipeline(steps=[('scaler', StandardScaler()), ('model', LinearRegression())])"
      ]
     },
     "execution_count": 79,
     "metadata": {},
     "output_type": "execute_result"
    }
   ],
   "source": [
    "model = LinearRegression()\n",
    "pipe = Pipeline([('scaler', StandardScaler()), ('model', model)])\n",
    "pipe.fit(X_train, y_train)"
   ]
  },
  {
   "cell_type": "code",
   "execution_count": 81,
   "metadata": {},
   "outputs": [
    {
     "data": {
      "text/plain": [
       "array([ 7345.16993556, 17814.50695994, 21554.18568883, 11909.75968961,\n",
       "        6414.68908304, 24906.47350648, 13347.07277252,  6903.62668554,\n",
       "        9907.49821275,  5759.3940001 ,  6617.72485045, 17208.72745334,\n",
       "        5274.63477266, 12967.72950535,  6091.95789927, 17397.88127882,\n",
       "       12713.06774891,  7940.77376714,  9140.6778315 ,  7049.47882757,\n",
       "       12925.42262583,  6957.60751361,  7003.03707274,  5608.92681727,\n",
       "       11939.91382435,  9203.41149741, 18400.1574295 , 26122.36709083,\n",
       "        6689.51632598,  9399.46953426, 11276.44385508, 18365.4693235 ,\n",
       "        9103.44990634, 12017.35467013, 24956.4954348 , 16694.61615295,\n",
       "       17157.48040498, 12082.85130355, 23564.22573271,  5863.75449379,\n",
       "       19020.43393209, 16274.63517056,  6565.26918163, 12537.81800091,\n",
       "       14079.45599345, 26536.68167491, 24128.9330541 ,  8398.30865404,\n",
       "       16425.40739843,  8403.7059412 ,  8357.62509542, 15654.2329191 ,\n",
       "       11750.63558699, 12185.261081  , 10356.74481415, 14589.65868185,\n",
       "        5450.39187704, 17886.15855655, 19152.18823509, 13618.59707159,\n",
       "       16587.21360362, 20153.10210312, 13625.25252084, 32925.1074845 ,\n",
       "       12820.16359572, 15078.5202447 , 14283.59703859, 10237.31474418,\n",
       "       12249.76634935, 13066.71633468, 23524.83351955, 14355.6817432 ,\n",
       "       17263.88256886, 15672.57936164, 16374.57594404,  4996.32898439,\n",
       "       14496.88056018, 18211.1991438 , 23767.76147569, 23410.78624375,\n",
       "        5722.0253506 ,  7751.57792515, 11913.71875737, 17381.74747677,\n",
       "        5603.13892402, 13397.13875731, 13519.0202361 ,  8184.18622408,\n",
       "       12790.69483234, 17974.67671535, 13388.83931676, 14904.22623557,\n",
       "       19965.1024589 , 11296.39790068, 10480.60120644, 11772.29984558,\n",
       "       14451.76600363, 11542.96065228,  5819.7489226 , 13349.43990979,\n",
       "        7581.32174627, 12561.63738681,  9895.22947869, 15309.16771855,\n",
       "       18413.36408005, 34732.01739807, 14876.10988001, 17356.19968593,\n",
       "        7189.26659182, 23601.7716408 ,  8421.83835249,  6728.72349424,\n",
       "       26751.92868689, 16156.58454885, 13063.20361969,  6691.79900308,\n",
       "       24099.5936802 , 12534.05327999, 12439.2724359 , 16162.30087576,\n",
       "       34774.20417977, 18620.42384568,  9050.9139613 , 14311.221488  ,\n",
       "       15292.29266584, 13478.27600166,  6305.89119792, 23493.79146482,\n",
       "       15966.94693332, 16826.86198418, 33963.1856519 , 11434.35931436,\n",
       "       10559.33847072, 24575.88197432, 12411.12657309,  6803.2596646 ,\n",
       "        5612.39402217, 15958.40014444, 16778.18838825, 15403.04630199,\n",
       "       11906.34594733, 17744.3568949 , 12071.89116841,  9652.46504982,\n",
       "       11622.69205302])"
      ]
     },
     "execution_count": 81,
     "metadata": {},
     "output_type": "execute_result"
    }
   ],
   "source": [
    "pipe.predict(X_test)"
   ]
  }
 ],
 "metadata": {
  "kernelspec": {
   "display_name": "Python 3.7.9 ('.venv': venv)",
   "language": "python",
   "name": "python3"
  },
  "language_info": {
   "codemirror_mode": {
    "name": "ipython",
    "version": 3
   },
   "file_extension": ".py",
   "mimetype": "text/x-python",
   "name": "python",
   "nbconvert_exporter": "python",
   "pygments_lexer": "ipython3",
   "version": "3.7.9"
  },
  "orig_nbformat": 4,
  "vscode": {
   "interpreter": {
    "hash": "694e7974152ab448c5ac6715ae5cbbb039219945fd81cf389714f1dc8954aeb1"
   }
  }
 },
 "nbformat": 4,
 "nbformat_minor": 2
}
